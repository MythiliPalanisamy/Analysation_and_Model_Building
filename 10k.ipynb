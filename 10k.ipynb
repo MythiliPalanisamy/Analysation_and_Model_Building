{
 "cells": [
  {
   "attachments": {},
   "cell_type": "markdown",
   "metadata": {},
   "source": [
    "Cleaning and Analysing scrapped data of 'https://www.immoweb.be/en'\n",
    "* import pandas, urllib, seaborn and matplotlib\n",
    "* reading csv file (scraped_data_10.csv) as dataframe (df)"
   ]
  },
  {
   "cell_type": "code",
   "execution_count": 165,
   "metadata": {},
   "outputs": [],
   "source": [
    "import pandas as pd\n",
    "import seaborn as sns\n",
    "import re\n",
    "import matplotlib.pyplot as plt\n",
    "import urllib\n",
    "df = pd.read_csv('scraped_data_10.csv')"
   ]
  },
  {
   "attachments": {},
   "cell_type": "markdown",
   "metadata": {},
   "source": [
    "Removing duplicates"
   ]
  },
  {
   "cell_type": "code",
   "execution_count": 166,
   "metadata": {},
   "outputs": [],
   "source": [
    "duplicates = df[df.duplicated()]\n",
    "df = df.drop_duplicates()"
   ]
  },
  {
   "attachments": {},
   "cell_type": "markdown",
   "metadata": {},
   "source": [
    "Cleaning 'Energy class' and 'Primary energy consumption' data\n",
    "* replacing 'Not specified' to 'NS' in primary energy consumption.\n",
    "* replacing 'Not specified' to '0' in energy class\n",
    "* converting primary energy consumption to numeric data"
   ]
  },
  {
   "cell_type": "code",
   "execution_count": 177,
   "metadata": {},
   "outputs": [],
   "source": [
    "df['Energy class']=df['Energy class'].replace('Not specified', 'NS')\n",
    "df['Primary energy consumption']=df['Primary energy consumption'].replace('Not specified', int(0))\n",
    "df['Primary energy consumption']=pd.to_numeric(df['Primary energy consumption'])\n"
   ]
  },
  {
   "attachments": {},
   "cell_type": "markdown",
   "metadata": {},
   "source": [
    "Cleaning 'Terrace' data\n",
    "* replacing 'Yes' to '1' \n",
    "* converting terrace to numeric data"
   ]
  },
  {
   "cell_type": "code",
   "execution_count": null,
   "metadata": {},
   "outputs": [],
   "source": [
    "df['Terrace']=df['Terrace'].replace('Yes',int(1))\n",
    "df['Terrace']=pd.to_numeric(df['Terrace'])"
   ]
  },
  {
   "attachments": {},
   "cell_type": "markdown",
   "metadata": {},
   "source": [
    "Cleaning 'Furnished' data\n",
    "* replacing 'Yes' to '1'\n",
    "* replacing 'No' to '0'\n",
    "* converting furnished to numeric data"
   ]
  },
  {
   "cell_type": "code",
   "execution_count": null,
   "metadata": {},
   "outputs": [],
   "source": [
    "df['Furnished']=df['Furnished'].replace('Yes',int(1))\n",
    "df['Furnished']=df['Furnished'].replace('No',int(0))\n",
    "df['Furnished']=pd.to_numeric(df['Furnished'])"
   ]
  },
  {
   "attachments": {},
   "cell_type": "markdown",
   "metadata": {},
   "source": [
    "Cleaning 'FurnOfficeished' data\n",
    "* replacing 'Yes' to '1'\n",
    "* replacing 'No' to '0'\n",
    "* converting Office to numeric data"
   ]
  },
  {
   "cell_type": "code",
   "execution_count": null,
   "metadata": {},
   "outputs": [],
   "source": [
    "df['Office']=df['Office'].replace('Yes',int(1))\n",
    "df['Office']=df['Office'].replace('No',int(0))\n",
    "df['Office']=pd.to_numeric(df['Office'])"
   ]
  },
  {
   "attachments": {},
   "cell_type": "markdown",
   "metadata": {},
   "source": [
    "Cleaning 'Location' data by removing symbols"
   ]
  },
  {
   "cell_type": "code",
   "execution_count": 179,
   "metadata": {},
   "outputs": [],
   "source": [
    "df['Location'] = df['Location'].apply(lambda x: urllib.parse.unquote(x))"
   ]
  },
  {
   "attachments": {},
   "cell_type": "markdown",
   "metadata": {},
   "source": [
    "* Merging 'provinces' to colums from 'provinces.csv' \n",
    "* Creating merged data as 'merged_10k1.csv' "
   ]
  },
  {
   "cell_type": "code",
   "execution_count": 180,
   "metadata": {},
   "outputs": [],
   "source": [
    "pro = pd.read_csv('provinces.csv')\n",
    "pro['postal code'] = pro['postal code'].astype(str)\n",
    "merged_df = df.merge(pro[['postal code', 'province']], on='postal code', how='left')\n",
    "merged_df.to_csv('merged_10k1.csv', index=False)"
   ]
  },
  {
   "cell_type": "code",
   "execution_count": 181,
   "metadata": {},
   "outputs": [],
   "source": [
    "merged_10 = pd.read_csv('merged_10k1.csv')"
   ]
  },
  {
   "attachments": {},
   "cell_type": "markdown",
   "metadata": {},
   "source": [
    "Cleaning 'Price'\n",
    "* replacing euro symbol , dot as empty\n",
    "* removing rows that contains zero price\n",
    "* removing empty rows\n",
    "* converting price to numeric data\n",
    "\n",
    "converting cleaned dataframe to 'final.csv' as final"
   ]
  },
  {
   "cell_type": "code",
   "execution_count": 182,
   "metadata": {},
   "outputs": [],
   "source": [
    "merged_10['Price']=merged_10['Price'].str.replace('€', '')\n",
    "merged_10['Price']=merged_10['Price'].str.replace('.', '')\n",
    "merged_10 = merged_10.drop(merged_10[merged_10['Price'] == str(0)].index)\n",
    "merged_10['Price'] = pd.to_numeric(merged_10['Price'], errors='coerce')\n",
    "merged_10 = merged_10.dropna(subset=['Price'])\n",
    "    \n",
    "merged_10.to_csv('final.csv',index=False)"
   ]
  },
  {
   "cell_type": "code",
   "execution_count": 185,
   "metadata": {},
   "outputs": [],
   "source": [
    "final = pd.read_csv('final.csv')\n"
   ]
  },
  {
   "cell_type": "code",
   "execution_count": 191,
   "metadata": {},
   "outputs": [
    {
     "data": {
      "text/plain": [
       "<Axes: xlabel='Energy class', ylabel='Price'>"
      ]
     },
     "execution_count": 191,
     "metadata": {},
     "output_type": "execute_result"
    },
    {
     "data": {
      "image/png": "[encoded data removed]",
      "text/plain": [
       "<Figure size 640x480 with 1 Axes>"
      ]
     },
     "metadata": {},
     "output_type": "display_data"
    }
   ],
   "source": [
    "#sns.FacetGrid(final, )\n",
    "\n",
    "sns.barplot(x='Energy class', y='Price', data=final)"
   ]
  },
  {
   "cell_type": "code",
   "execution_count": null,
   "metadata": {},
   "outputs": [],
   "source": []
  }
 ],
 "metadata": {
  "kernelspec": {
   "display_name": "immoeliza",
   "language": "python",
   "name": "python3"
  },
  "language_info": {
   "codemirror_mode": {
    "name": "ipython",
    "version": 3
   },
   "file_extension": ".py",
   "mimetype": "text/x-python",
   "name": "python",
   "nbconvert_exporter": "python",
   "pygments_lexer": "ipython3",
   "version": "3.11.4"
  },
  "orig_nbformat": 4
 },
 "nbformat": 4,
 "nbformat_minor": 2
}
