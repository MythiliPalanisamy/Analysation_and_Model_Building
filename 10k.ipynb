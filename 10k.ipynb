{
 "cells": [
  {
   "cell_type": "code",
   "execution_count": 81,
   "metadata": {},
   "outputs": [],
   "source": [
    "import pandas as pd\n",
    "import seaborn as sns\n",
    "import matplotlib.pyplot as plt\n",
    "df = pd.read_csv('scraped_data_10.csv')"
   ]
  },
  {
   "attachments": {},
   "cell_type": "markdown",
   "metadata": {},
   "source": [
    "Removing duplicates"
   ]
  },
  {
   "cell_type": "code",
   "execution_count": 82,
   "metadata": {},
   "outputs": [],
   "source": [
    "duplicates = df[df.duplicated()]\n",
    "df = df.drop_duplicates()"
   ]
  },
  {
   "attachments": {},
   "cell_type": "markdown",
   "metadata": {},
   "source": [
    "clearing the data 'price'"
   ]
  },
  {
   "cell_type": "code",
   "execution_count": 96,
   "metadata": {},
   "outputs": [],
   "source": [
    "df=df.drop(df[(df['Price'] == str(0)) | (df['Price']== str('€'))].index)\n",
    "df['Price']=df['Price'].str.replace('!€', '')\n",
    "df=df.drop(df[(df['Price'] == str('/month')) | (df['Price']== str(').')) | (df['Price']== str('/mois')) & (df['Price']== str('.'))].index)\n"
   ]
  },
  {
   "attachments": {},
   "cell_type": "markdown",
   "metadata": {},
   "source": [
    "clearing the data 'Location'"
   ]
  },
  {
   "cell_type": "code",
   "execution_count": 97,
   "metadata": {},
   "outputs": [],
   "source": [
    "import urllib\n",
    "df['Location'] = df['Location'].apply(lambda x: urllib.parse.unquote(x))"
   ]
  },
  {
   "cell_type": "code",
   "execution_count": 98,
   "metadata": {},
   "outputs": [
    {
     "name": "stdout",
     "output_type": "stream",
     "text": [
      "<class 'pandas.core.frame.DataFrame'>\n",
      "Index: 8814 entries, 1 to 10138\n",
      "Data columns (total 24 columns):\n",
      " #   Column                      Non-Null Count  Dtype \n",
      "---  ------                      --------------  ----- \n",
      " 0   Type of property            8814 non-null   object\n",
      " 1   Location                    8814 non-null   object\n",
      " 2   postal code                 8814 non-null   object\n",
      " 3   immo code                   8814 non-null   int64 \n",
      " 4   Price                       8814 non-null   object\n",
      " 5   Address                     8814 non-null   object\n",
      " 6   Bedrooms                    8814 non-null   int64 \n",
      " 7   Energy class                8814 non-null   object\n",
      " 8   Primary energy consumption  8814 non-null   object\n",
      " 9   Furnished                   8814 non-null   object\n",
      " 10  Terrace                     8814 non-null   object\n",
      " 11  Terrace surface             8814 non-null   int64 \n",
      " 12  Surface of the plot         8814 non-null   int64 \n",
      " 13  Living room surface         8814 non-null   int64 \n",
      " 14  Number of frontages         8814 non-null   int64 \n",
      " 15  Construction year           8814 non-null   int64 \n",
      " 16  Building condition          8814 non-null   object\n",
      " 17  Outdoor parking space       8814 non-null   int64 \n",
      " 18  Bathrooms                   8814 non-null   int64 \n",
      " 19  Shower rooms                8814 non-null   int64 \n",
      " 20  Office                      8814 non-null   object\n",
      " 21  Toilets                     8814 non-null   int64 \n",
      " 22  Kitchen type                8814 non-null   object\n",
      " 23  Heating type                8814 non-null   object\n",
      "dtypes: int64(11), object(13)\n",
      "memory usage: 1.7+ MB\n"
     ]
    }
   ],
   "source": [
    "df.info()"
   ]
  },
  {
   "attachments": {},
   "cell_type": "markdown",
   "metadata": {},
   "source": [
    "adding 'provinces' to colums"
   ]
  },
  {
   "cell_type": "code",
   "execution_count": 99,
   "metadata": {},
   "outputs": [],
   "source": [
    "pro = pd.read_csv('provinces.csv')\n",
    "pro['postal code'] = pro['postal code'].astype(str)\n",
    "merged_df = df.merge(pro[['postal code', 'province']], on='postal code', how='left')\n",
    "merged_df.to_csv('merged_10k.csv', index=False)"
   ]
  },
  {
   "cell_type": "code",
   "execution_count": null,
   "metadata": {},
   "outputs": [],
   "source": [
    "merged_10k = pd.read_csv('merged_10k.csv')\n",
    "merged_10k.sort_values('Price').head(20)"
   ]
  }
 ],
 "metadata": {
  "kernelspec": {
   "display_name": "immoeliza",
   "language": "python",
   "name": "python3"
  },
  "language_info": {
   "codemirror_mode": {
    "name": "ipython",
    "version": 3
   },
   "file_extension": ".py",
   "mimetype": "text/x-python",
   "name": "python",
   "nbconvert_exporter": "python",
   "pygments_lexer": "ipython3",
   "version": "3.11.4"
  },
  "orig_nbformat": 4
 },
 "nbformat": 4,
 "nbformat_minor": 2
}
