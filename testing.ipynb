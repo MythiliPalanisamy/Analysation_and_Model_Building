{
 "cells": [
  {
   "cell_type": "code",
   "execution_count": 60,
   "metadata": {},
   "outputs": [],
   "source": [
    "import numpy as np\n",
    "import pandas as pd\n",
    "import matplotlib.pyplot as plt\n",
    "x = pd.read_csv('scraped_data_10.csv')\n",
    "z=pd.read_csv('10.csv')\n",
    "\n"
   ]
  },
  {
   "cell_type": "code",
   "execution_count": 61,
   "metadata": {},
   "outputs": [],
   "source": [
    "tenk = x.drop_duplicates()\n",
    "ten = z.drop_duplicates()"
   ]
  },
  {
   "cell_type": "code",
   "execution_count": 62,
   "metadata": {},
   "outputs": [
    {
     "data": {
      "text/plain": [
       "Location               postal code\n",
       "bierbeek%20korbeek-lo  3360           1\n",
       "braine-l%27alleud      1420           1\n",
       "kasterlee              2460           1\n",
       "kortessem              3720           1\n",
       "lubbeek                3210           1\n",
       "nieuwenrode            1880           1\n",
       "schilde                2970           1\n",
       "tremelo                3120           1\n",
       "wevelgem               8560           1\n",
       "zonhoven               3520           1\n",
       "Name: count, dtype: int64"
      ]
     },
     "execution_count": 62,
     "metadata": {},
     "output_type": "execute_result"
    }
   ],
   "source": [
    "ten.groupby('Location')['postal code'].value_counts()\n"
   ]
  },
  {
   "cell_type": "code",
   "execution_count": 59,
   "metadata": {},
   "outputs": [
    {
     "data": {
      "text/plain": [
       "array([['penthouse', 'turnhout', '2300', ..., 2, '0', 'Gas'],\n",
       "       ['house', 'essen', '2910', ..., 2, 'Installed', '0'],\n",
       "       ['house', 'bierges', '1301', ..., 4, 'Hyper equipped', 'Fuel oil'],\n",
       "       ...,\n",
       "       ['penthouse', 'braine-l%27alleud', '1420', ..., 0, '0', '0'],\n",
       "       ['house', 'wevelgem', '8560', ..., 0, '0', '0'],\n",
       "       ['villa', 'lubbeek', '3210', ..., 4, 'Hyper equipped', '0']],\n",
       "      dtype=object)"
      ]
     },
     "execution_count": 59,
     "metadata": {},
     "output_type": "execute_result"
    }
   ],
   "source": [
    "tenk.values"
   ]
  }
 ],
 "metadata": {
  "kernelspec": {
   "display_name": "immoeliza",
   "language": "python",
   "name": "python3"
  },
  "language_info": {
   "codemirror_mode": {
    "name": "ipython",
    "version": 3
   },
   "file_extension": ".py",
   "mimetype": "text/x-python",
   "name": "python",
   "nbconvert_exporter": "python",
   "pygments_lexer": "ipython3",
   "version": "3.11.4"
  },
  "orig_nbformat": 4
 },
 "nbformat": 4,
 "nbformat_minor": 2
}
